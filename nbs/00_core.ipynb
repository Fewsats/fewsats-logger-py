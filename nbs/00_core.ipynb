{
 "cells": [
  {
   "cell_type": "markdown",
   "metadata": {},
   "source": [
    "# core\n",
    "\n",
    "> Fill in a module description here"
   ]
  },
  {
   "cell_type": "code",
   "execution_count": null,
   "metadata": {},
   "outputs": [],
   "source": [
    "#| default_exp core"
   ]
  },
  {
   "cell_type": "code",
   "execution_count": null,
   "metadata": {},
   "outputs": [],
   "source": [
    "#| hide\n",
    "from nbdev.showdoc import *"
   ]
  },
  {
   "cell_type": "code",
   "execution_count": null,
   "metadata": {},
   "outputs": [],
   "source": [
    "#| export\n",
    "import logging.config\n",
    "from logtail import LogtailHandler, LogtailContext\n",
    "import sys"
   ]
  },
  {
   "cell_type": "code",
   "execution_count": null,
   "metadata": {},
   "outputs": [],
   "source": [
    "#| export\n",
    "\n",
    "def setup_logging(env, host, token):\n",
    "    root_logger = logging.getLogger()\n",
    "    root_logger.setLevel(logging.INFO)\n",
    "    \n",
    "    # Clear existing handlers to avoid duplicates if called multiple times\n",
    "    root_logger.handlers = []\n",
    "    \n",
    "    # Add Logtail handler for cloud logging\n",
    "    logtail_handler = LogtailHandler(\n",
    "        source_token=token, \n",
    "        host=host,\n",
    "        context=LogtailContext().context(\n",
    "            environment={'name': env}\n",
    "        )\n",
    "    )\n",
    "    root_logger.addHandler(logtail_handler)\n",
    "    \n",
    "\n",
    "    console_handler = logging.StreamHandler(sys.stdout)\n",
    "    console_formatter = logging.Formatter(\n",
    "        '%(asctime)s - %(name)s - %(levelname)s - %(message)s'\n",
    "    )\n",
    "    console_handler.setFormatter(console_formatter)\n",
    "    root_logger.addHandler(console_handler)"
   ]
  },
  {
   "cell_type": "code",
   "execution_count": null,
   "metadata": {},
   "outputs": [],
   "source": [
    "#| export \n",
    "# If this file is run directly, test the logging\n",
    "if __name__ == '__main__':\n",
    "    setup_logging()\n",
    "    logger = logging.getLogger(__name__)\n",
    "    logger.info(\"Test log message\")\n",
    "    logger.error(\"Test error message\") "
   ]
  },
  {
   "cell_type": "code",
   "execution_count": null,
   "metadata": {},
   "outputs": [],
   "source": [
    "#| hide\n",
    "import nbdev; nbdev.nbdev_export()"
   ]
  }
 ],
 "metadata": {
  "kernelspec": {
   "display_name": "python3",
   "language": "python",
   "name": "python3"
  }
 },
 "nbformat": 4,
 "nbformat_minor": 4
}
