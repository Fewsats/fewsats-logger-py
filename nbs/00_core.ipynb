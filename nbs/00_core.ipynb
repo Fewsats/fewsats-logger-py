{
 "cells": [
  {
   "cell_type": "markdown",
   "metadata": {},
   "source": [
    "# core\n",
    "\n",
    "> Fill in a module description here"
   ]
  },
  {
   "cell_type": "code",
   "execution_count": null,
   "metadata": {},
   "outputs": [],
   "source": [
    "#| default_exp core"
   ]
  },
  {
   "cell_type": "code",
   "execution_count": null,
   "metadata": {},
   "outputs": [],
   "source": [
    "#| hide\n",
    "from nbdev.showdoc import *"
   ]
  },
  {
   "cell_type": "code",
   "execution_count": null,
   "metadata": {},
   "outputs": [],
   "source": [
    "#| export\n",
    "from logtail import LogtailHandler\n",
    "import logging\n",
    "import os"
   ]
  },
  {
   "cell_type": "code",
   "execution_count": null,
   "metadata": {},
   "outputs": [],
   "source": [
    "\n",
    "#| export\n",
    "def setup_logging():\n",
    "    \"\"\"\n",
    "    Configure logging to use Better Stack's LogtailHandler\n",
    "    with env context included automatically.\n",
    "    \n",
    "    This should be called once at application startup.\n",
    "    \"\"\"\n",
    "    env = os.environ.get(\"ENV\", \"development\")\n",
    "    source_token = os.environ.get(\"BETTER_STACK_SOURCE_TOKEN\")\n",
    "    host = os.environ.get(\"BETTER_STACK_HOST\")\n",
    "    \n",
    "    if not source_token or not host:\n",
    "        # If Better Stack credentials are not available, fall back to basic config\n",
    "        logging.basicConfig(level=logging.INFO)\n",
    "        logging.warning(\"Better Stack credentials not found, using basic logging config\")\n",
    "        return\n",
    "    \n",
    "    # Configure the root logger first to set the minimum level\n",
    "    root_logger = logging.getLogger()\n",
    "    root_logger.setLevel(logging.INFO)\n",
    "    \n",
    "    # Remove any existing handlers to avoid duplicates\n",
    "    for handler in root_logger.handlers[:]:\n",
    "        root_logger.removeHandler(handler)\n",
    "    \n",
    "    # Add a console handler for local development\n",
    "    console = logging.StreamHandler()\n",
    "    root_logger.addHandler(console)\n",
    "    \n",
    "    try:\n",
    "        # Set up the Logtail handler\n",
    "        handler = LogtailHandler(\n",
    "            source_token=source_token,\n",
    "            host=host\n",
    "        )\n",
    "        \n",
    "        # Override LogRecord factory to add env to all records\n",
    "        old_factory = logging.getLogRecordFactory()\n",
    "        def record_factory(*args, **kwargs):\n",
    "            record = old_factory(*args, **kwargs)\n",
    "            record.env = env\n",
    "            return record\n",
    "        logging.setLogRecordFactory(record_factory)\n",
    "        \n",
    "        # Add the handler to the root logger\n",
    "        root_logger.addHandler(handler)\n",
    "        \n",
    "        logging.info(f\"Better Stack logging configured with env: {env}\")\n",
    "    except Exception as e:\n",
    "        logging.error(f\"Failed to configure Better Stack logging: {e}\")\n",
    "\n"
   ]
  },
  {
   "cell_type": "code",
   "execution_count": null,
   "metadata": {},
   "outputs": [],
   "source": [
    "#| export \n",
    "# If this file is run directly, test the logging\n",
    "if __name__ == '__main__':\n",
    "    setup_logging()\n",
    "    logger = logging.getLogger(__name__)\n",
    "    logger.info(\"Test log message\")\n",
    "    logger.error(\"Test error message\") "
   ]
  },
  {
   "cell_type": "code",
   "execution_count": null,
   "metadata": {},
   "outputs": [],
   "source": [
    "#| hide\n",
    "import nbdev; nbdev.nbdev_export()"
   ]
  }
 ],
 "metadata": {
  "kernelspec": {
   "display_name": "python3",
   "language": "python",
   "name": "python3"
  }
 },
 "nbformat": 4,
 "nbformat_minor": 4
}
